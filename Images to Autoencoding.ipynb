{
 "cells": [
  {
   "cell_type": "code",
   "execution_count": 1,
   "metadata": {
    "collapsed": true
   },
   "outputs": [],
   "source": [
    "import os\n",
    "os.environ['THEANO_FLAGS'] = 'floatX=float32,device=gpu0,nvcc.fastmath=True,optimizer_including=cudnn'"
   ]
  },
  {
   "cell_type": "code",
   "execution_count": 1,
   "metadata": {
    "collapsed": false
   },
   "outputs": [
    {
     "name": "stderr",
     "output_type": "stream",
     "text": [
      "Using Theano backend.\n",
      "Using gpu device 0: GeForce GT 750M (CNMeM is enabled with initial size: 75.0% of memory, CuDNN 4007)\n"
     ]
    }
   ],
   "source": [
    "import numpy as np\n",
    "import keras\n",
    "from keras.models import Sequential\n",
    "from keras.layers.core import Dense, Activation, Flatten, Reshape\n",
    "from keras.layers.convolutional import Convolution2D, MaxPooling2D, UpSampling2D\n",
    "from keras.utils import np_utils"
   ]
  },
  {
   "cell_type": "code",
   "execution_count": 3,
   "metadata": {
    "collapsed": false
   },
   "outputs": [
    {
     "data": {
      "text/plain": [
       "(28488, 32, 32)"
      ]
     },
     "execution_count": 3,
     "metadata": {},
     "output_type": "execute_result"
    }
   ],
   "source": [
    "amps = np.load('data/28k/images.npy')\n",
    "amps.shape"
   ]
  },
  {
   "cell_type": "code",
   "execution_count": 32,
   "metadata": {
    "collapsed": false
   },
   "outputs": [
    {
     "name": "stdout",
     "output_type": "stream",
     "text": [
      "--------------------------------------------------------------------------------\n",
      "Initial input shape: (None, 32, 32)\n",
      "--------------------------------------------------------------------------------\n",
      "Layer (name)                  Output Shape                  Param #             \n",
      "--------------------------------------------------------------------------------\n",
      "Reshape (reshape)             (None, 1, 32, 32)             0                   \n",
      "Convolution2D (convolution2d) (None, 4, 32, 32)             40                  \n",
      "Convolution2D (convolution2d) (None, 4, 32, 32)             148                 \n",
      "MaxPooling2D (maxpooling2d)   (None, 4, 16, 16)             0                   \n",
      "Convolution2D (convolution2d) (None, 8, 16, 16)             296                 \n",
      "Convolution2D (convolution2d) (None, 8, 16, 16)             584                 \n",
      "MaxPooling2D (maxpooling2d)   (None, 8, 8, 8)               0                   \n",
      "Convolution2D (convolution2d) (None, 16, 8, 8)              1168                \n",
      "Convolution2D (convolution2d) (None, 16, 8, 8)              2320                \n",
      "MaxPooling2D (maxpooling2d)   (None, 16, 4, 4)              0                   \n",
      "Convolution2D (convolution2d) (None, 32, 4, 4)              4640                \n",
      "Convolution2D (convolution2d) (None, 32, 4, 4)              9248                \n",
      "MaxPooling2D (maxpooling2d)   (None, 32, 2, 2)              0                   \n",
      "Flatten (encoded)             (None, 128)                   0                   \n",
      "Reshape (reshape)             (None, 32, 2, 2)              0                   \n",
      "UpSampling2D (upsampling2d)   (None, 32, 4, 4)              0                   \n",
      "Convolution2D (convolution2d) (None, 32, 4, 4)              9248                \n",
      "Convolution2D (convolution2d) (None, 32, 4, 4)              9248                \n",
      "UpSampling2D (upsampling2d)   (None, 32, 8, 8)              0                   \n",
      "Convolution2D (convolution2d) (None, 16, 8, 8)              4624                \n",
      "Convolution2D (convolution2d) (None, 16, 8, 8)              2320                \n",
      "UpSampling2D (upsampling2d)   (None, 16, 16, 16)            0                   \n",
      "Convolution2D (convolution2d) (None, 8, 16, 16)             1160                \n",
      "Convolution2D (convolution2d) (None, 8, 16, 16)             584                 \n",
      "UpSampling2D (upsampling2d)   (None, 8, 32, 32)             0                   \n",
      "Convolution2D (convolution2d) (None, 4, 32, 32)             292                 \n",
      "Convolution2D (convolution2d) (None, 1, 32, 32)             37                  \n",
      "Reshape (reshape)             (None, 32, 32)                0                   \n",
      "--------------------------------------------------------------------------------\n",
      "Total params: 45957\n",
      "--------------------------------------------------------------------------------\n",
      "None\n"
     ]
    }
   ],
   "source": [
    "n_bands = amps.shape[1]\n",
    "n_time = amps.shape[2]\n",
    "nb_filters = 32\n",
    "nb_row = 3\n",
    "nb_col = 3\n",
    "pool_size = (2,2)\n",
    "nb_encode = 128\n",
    "# dropout = 0.2\n",
    "activation = 'relu'\n",
    "border_mode = 'same'\n",
    "\n",
    "model = Sequential()\n",
    "model.add(Reshape((1, n_bands, n_time), input_shape=(n_bands, n_time)))\n",
    "model.add(Convolution2D(nb_filters/8, nb_row, nb_col, activation=activation, border_mode=border_mode))\n",
    "model.add(Convolution2D(nb_filters/8, nb_row, nb_col, activation=activation, border_mode=border_mode))\n",
    "model.add(MaxPooling2D(pool_size=pool_size))\n",
    "model.add(Convolution2D(nb_filters/4, nb_row, nb_col, activation=activation, border_mode=border_mode))\n",
    "model.add(Convolution2D(nb_filters/4, nb_row, nb_col, activation=activation, border_mode=border_mode))\n",
    "model.add(MaxPooling2D(pool_size=pool_size))\n",
    "model.add(Convolution2D(nb_filters/2, nb_row, nb_col, activation=activation, border_mode=border_mode))\n",
    "model.add(Convolution2D(nb_filters/2, nb_row, nb_col, activation=activation, border_mode=border_mode))\n",
    "model.add(MaxPooling2D(pool_size=pool_size))\n",
    "model.add(Convolution2D(nb_filters, nb_row, nb_col, activation=activation, border_mode=border_mode))\n",
    "model.add(Convolution2D(nb_filters, nb_row, nb_col, activation=activation, border_mode=border_mode))\n",
    "model.add(MaxPooling2D(pool_size=pool_size))\n",
    "model.add(Flatten(name='encoded'))\n",
    "model.add(Reshape((nb_filters, 2, 2)))  # todo: auto\n",
    "model.add(UpSampling2D(size=pool_size))\n",
    "model.add(Convolution2D(nb_filters, nb_row, nb_col, activation=activation, border_mode=border_mode))\n",
    "model.add(Convolution2D(nb_filters, nb_row, nb_col, activation=activation, border_mode=border_mode))\n",
    "model.add(UpSampling2D(size=pool_size))\n",
    "model.add(Convolution2D(nb_filters/2, nb_row, nb_col, activation=activation, border_mode=border_mode))\n",
    "model.add(Convolution2D(nb_filters/2, nb_row, nb_col, activation=activation, border_mode=border_mode))\n",
    "model.add(UpSampling2D(size=pool_size))\n",
    "model.add(Convolution2D(nb_filters/4, nb_row, nb_col, activation=activation, border_mode=border_mode))\n",
    "model.add(Convolution2D(nb_filters/4, nb_row, nb_col, activation=activation, border_mode=border_mode))\n",
    "model.add(UpSampling2D(size=pool_size))\n",
    "model.add(Convolution2D(nb_filters/8, nb_row, nb_col, activation=activation, border_mode=border_mode))\n",
    "model.add(Convolution2D(1, nb_row, nb_col, activation=activation, border_mode=border_mode))\n",
    "model.add(Reshape((n_bands, n_time)))\n",
    "print model.summary()"
   ]
  },
  {
   "cell_type": "code",
   "execution_count": 33,
   "metadata": {
    "collapsed": false,
    "scrolled": false
   },
   "outputs": [
    {
     "name": "stdout",
     "output_type": "stream",
     "text": [
      "CPU times: user 1min 5s, sys: 1.63 s, total: 1min 7s\n",
      "Wall time: 1min 46s\n"
     ]
    }
   ],
   "source": [
    "%time model.compile(loss='mse', optimizer='rmsprop')"
   ]
  },
  {
   "cell_type": "code",
   "execution_count": null,
   "metadata": {
    "collapsed": false
   },
   "outputs": [],
   "source": [
    "model.fit(amps, amps, verbose=2, nb_epoch=1, batch_size=64)"
   ]
  },
  {
   "cell_type": "code",
   "execution_count": 10,
   "metadata": {
    "collapsed": true
   },
   "outputs": [],
   "source": [
    "from keras import backend as K\n",
    "get_encoding = K.function([model.layers[0].input], \n",
    "                          [model.layers[11].get_output(train=False)])"
   ]
  },
  {
   "cell_type": "code",
   "execution_count": 11,
   "metadata": {
    "collapsed": false
   },
   "outputs": [],
   "source": [
    "encoding = get_encoding([batch])[0]"
   ]
  },
  {
   "cell_type": "code",
   "execution_count": 12,
   "metadata": {
    "collapsed": true
   },
   "outputs": [],
   "source": [
    "from scipy.spatial.distance import pdist, squareform\n",
    "distances_vector = pdist(encoding, 'cosine')\n",
    "distances_matrix = squareform(distances_vector)"
   ]
  },
  {
   "cell_type": "code",
   "execution_count": 17,
   "metadata": {
    "collapsed": false,
    "scrolled": true
   },
   "outputs": [
    {
     "name": "stdout",
     "output_type": "stream",
     "text": [
      "0.0104745079818\n",
      "343053\n",
      "273 984\n"
     ]
    },
    {
     "data": {
      "image/png": "[encoded data removed]",
      "text/plain": [
       "<IPython.core.display.Image object>"
      ]
     },
     "metadata": {},
     "output_type": "display_data"
    },
    {
     "data": {
      "image/png": "[encoded data removed]",
      "text/plain": [
       "<IPython.core.display.Image object>"
      ]
     },
     "metadata": {},
     "output_type": "display_data"
    }
   ],
   "source": [
    "best = sorted(distances_vector)[np.random.randint(0,1000)]\n",
    "print best\n",
    "match = (distances_matrix == best).argmax()\n",
    "print match\n",
    "a = match / len(encoding)\n",
    "b = match % len(encoding)\n",
    "print a, b\n",
    "showarray(batch[a]*255)\n",
    "showarray(batch[b]*255)"
   ]
  },
  {
   "cell_type": "code",
   "execution_count": 18,
   "metadata": {
    "collapsed": true
   },
   "outputs": [],
   "source": [
    "predicted = model.predict(batch)"
   ]
  },
  {
   "cell_type": "code",
   "execution_count": 19,
   "metadata": {
    "collapsed": false
   },
   "outputs": [
    {
     "data": {
      "text/plain": [
       "(1253, 128, 64)"
      ]
     },
     "execution_count": 19,
     "metadata": {},
     "output_type": "execute_result"
    }
   ],
   "source": [
    "predicted.shape"
   ]
  },
  {
   "cell_type": "code",
   "execution_count": null,
   "metadata": {
    "collapsed": false
   },
   "outputs": [],
   "source": [
    "for i in range(10):\n",
    "    showarray(batch[i] * 255)\n",
    "    showarray(predicted[i] * 255)"
   ]
  },
  {
   "cell_type": "code",
   "execution_count": null,
   "metadata": {
    "collapsed": true
   },
   "outputs": [],
   "source": []
  }
 ],
 "metadata": {
  "kernelspec": {
   "display_name": "Python 2",
   "language": "python",
   "name": "python2"
  },
  "language_info": {
   "codemirror_mode": {
    "name": "ipython",
    "version": 2
   },
   "file_extension": ".py",
   "mimetype": "text/x-python",
   "name": "python",
   "nbconvert_exporter": "python",
   "pygments_lexer": "ipython2",
   "version": "2.7.10"
  }
 },
 "nbformat": 4,
 "nbformat_minor": 0
}
