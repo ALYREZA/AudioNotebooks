{
 "cells": [
  {
   "cell_type": "code",
   "execution_count": 1,
   "metadata": {
    "collapsed": false
   },
   "outputs": [
    {
     "name": "stdout",
     "output_type": "stream",
     "text": [
      "CPU times: user 884 µs, sys: 3.44 s, total: 3.44 s\n",
      "Wall time: 5.23 s\n"
     ]
    }
   ],
   "source": [
    "from utils import ffmpeg_save_audio\n",
    "import numpy as np\n",
    "sr = 44100\n",
    "# %time samples = np.load('input/28k/samples.npy')\n",
    "%time samples = np.load('input/28k/samples.npy')"
   ]
  },
  {
   "cell_type": "code",
   "execution_count": 70,
   "metadata": {
    "collapsed": false
   },
   "outputs": [
    {
     "name": "stdout",
     "output_type": "stream",
     "text": [
      "CPU times: user 15 µs, sys: 1 µs, total: 16 µs\n",
      "Wall time: 18.8 µs\n",
      "CPU times: user 13.6 ms, sys: 17.3 ms, total: 31 ms\n",
      "Wall time: 665 ms\n"
     ]
    }
   ],
   "source": [
    "# export full-length spritesheet\n",
    "%time y = samples[:100,:].reshape(-1)\n",
    "%time ffmpeg_save_audio('out.mp3', y, sr)"
   ]
  },
  {
   "cell_type": "code",
   "execution_count": 92,
   "metadata": {
    "collapsed": false
   },
   "outputs": [
    {
     "name": "stdout",
     "output_type": "stream",
     "text": [
      "CPU times: user 349 ms, sys: 402 ms, total: 751 ms\n",
      "Wall time: 750 ms\n",
      "CPU times: user 867 ms, sys: 988 ms, total: 1.85 s\n",
      "Wall time: 5.27 s\n"
     ]
    }
   ],
   "source": [
    "# export partial spritesheet\n",
    "divider = 4\n",
    "%time y = samples[:, :samples.shape[1]/divider].reshape(-1)\n",
    "%time ffmpeg_save_audio('out.mp3', y, sr)"
   ]
  },
  {
   "cell_type": "code",
   "execution_count": null,
   "metadata": {
    "collapsed": true
   },
   "outputs": [],
   "source": []
  }
 ],
 "metadata": {
  "kernelspec": {
   "display_name": "Python 2",
   "language": "python",
   "name": "python2"
  },
  "language_info": {
   "codemirror_mode": {
    "name": "ipython",
    "version": 2
   },
   "file_extension": ".py",
   "mimetype": "text/x-python",
   "name": "python",
   "nbconvert_exporter": "python",
   "pygments_lexer": "ipython2",
   "version": "2.7.10"
  }
 },
 "nbformat": 4,
 "nbformat_minor": 0
}
