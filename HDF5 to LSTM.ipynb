{
 "cells": [
  {
   "cell_type": "code",
   "execution_count": 1,
   "metadata": {
    "collapsed": true
   },
   "outputs": [],
   "source": [
    "data_root = 'data/blizzard'"
   ]
  },
  {
   "cell_type": "code",
   "execution_count": 2,
   "metadata": {
    "collapsed": true
   },
   "outputs": [],
   "source": [
    "%matplotlib inline\n",
    "from matplotlib import pyplot as plt\n",
    "from os.path import join\n",
    "from tqdm import tqdm\n",
    "import numpy as np\n",
    "import h5py"
   ]
  },
  {
   "cell_type": "code",
   "execution_count": 3,
   "metadata": {
    "collapsed": false
   },
   "outputs": [],
   "source": [
    "f = h5py.File(join(data_root, 'samples.hdf5'), 'r')\n",
    "dataset = f['samples']"
   ]
  },
  {
   "cell_type": "code",
   "execution_count": 4,
   "metadata": {
    "collapsed": false
   },
   "outputs": [
    {
     "data": {
      "image/png": "[encoded data removed]",
      "text/plain": [
       "<matplotlib.figure.Figure at 0x1102710d0>"
      ]
     },
     "metadata": {},
     "output_type": "display_data"
    }
   ],
   "source": [
    "plt.plot(dataset[:3*16000])\n",
    "plt.show()"
   ]
  },
  {
   "cell_type": "code",
   "execution_count": 5,
   "metadata": {
    "collapsed": false
   },
   "outputs": [
    {
     "name": "stderr",
     "output_type": "stream",
     "text": [
      "Using Theano backend.\n",
      "Using gpu device 0: GeForce GT 750M (CNMeM is enabled with initial size: 75.0% of memory, cuDNN 4007)\n"
     ]
    }
   ],
   "source": [
    "from keras.layers import merge, Input\n",
    "from keras.models import Model\n",
    "from keras.layers.core import Dense, Activation\n",
    "from keras.layers.convolutional import Convolution1D\n",
    "from keras.layers.recurrent import LSTM"
   ]
  },
  {
   "cell_type": "code",
   "execution_count": 6,
   "metadata": {
    "collapsed": true
   },
   "outputs": [],
   "source": [
    "def generate_samples(data, batch_size, sample_length, discretize_input=False):\n",
    "    sample_offset = 0\n",
    "    step_size = sample_length + 1\n",
    "    while True:\n",
    "        if discretize_input:\n",
    "            history = np.zeros((batch_size, sample_length, nb_classes), dtype='float32')\n",
    "        else:\n",
    "            history = np.zeros((batch_size, sample_length, 1), dtype='float32')\n",
    "        predictions = np.zeros((batch_size, nb_classes), dtype='float32')\n",
    "        for i in range(batch_size):\n",
    "            if discretize_input:\n",
    "                for j, k in enumerate(data[sample_offset:sample_offset+sample_length]):\n",
    "                    history[i, j, k] = 1\n",
    "            else:\n",
    "                history[i] = data[sample_offset:sample_offset+sample_length].reshape(-1, 1)\n",
    "            prediction = data[sample_offset+sample_length]\n",
    "            predictions[i, prediction] = 1\n",
    "            sample_offset = (sample_offset + step_size) % (data.shape[0] - step_size)\n",
    "        if not discretize_input:\n",
    "            history /= 255\n",
    "        yield (history, predictions)"
   ]
  },
  {
   "cell_type": "code",
   "execution_count": 7,
   "metadata": {
    "collapsed": false
   },
   "outputs": [
    {
     "name": "stdout",
     "output_type": "stream",
     "text": [
      "____________________________________________________________________________________________________\n",
      "Layer (type)                       Output Shape        Param #     Connected to                     \n",
      "====================================================================================================\n",
      "input_1 (InputLayer)               (None, 256, 256)    0                                            \n",
      "____________________________________________________________________________________________________\n",
      "lstm_1 (LSTM)                      (None, 256, 128)    197120      input_1[0][0]                    \n",
      "____________________________________________________________________________________________________\n",
      "convolution1d_1 (Convolution1D)    (None, 256, 128)    16512       lstm_1[0][0]                     \n",
      "____________________________________________________________________________________________________\n",
      "lstm_2 (LSTM)                      (None, 256, 128)    131584      convolution1d_1[0][0]            \n",
      "____________________________________________________________________________________________________\n",
      "convolution1d_2 (Convolution1D)    (None, 256, 128)    16512       lstm_2[0][0]                     \n",
      "____________________________________________________________________________________________________\n",
      "merge_1 (Merge)                    (None, 256, 128)    0           convolution1d_1[0][0]            \n",
      "                                                                   convolution1d_2[0][0]            \n",
      "____________________________________________________________________________________________________\n",
      "lstm_3 (LSTM)                      (None, 256, 128)    131584      merge_1[0][0]                    \n",
      "____________________________________________________________________________________________________\n",
      "convolution1d_3 (Convolution1D)    (None, 256, 128)    16512       lstm_3[0][0]                     \n",
      "____________________________________________________________________________________________________\n",
      "lstm_4 (LSTM)                      (None, 256, 128)    131584      convolution1d_3[0][0]            \n",
      "____________________________________________________________________________________________________\n",
      "convolution1d_4 (Convolution1D)    (None, 256, 128)    16512       lstm_4[0][0]                     \n",
      "____________________________________________________________________________________________________\n",
      "merge_2 (Merge)                    (None, 256, 128)    0           convolution1d_3[0][0]            \n",
      "                                                                   convolution1d_4[0][0]            \n",
      "____________________________________________________________________________________________________\n",
      "lstm_5 (LSTM)                      (None, 256, 128)    131584      merge_2[0][0]                    \n",
      "____________________________________________________________________________________________________\n",
      "convolution1d_5 (Convolution1D)    (None, 256, 128)    16512       lstm_5[0][0]                     \n",
      "____________________________________________________________________________________________________\n",
      "lstm_6 (LSTM)                      (None, 256, 128)    131584      convolution1d_5[0][0]            \n",
      "____________________________________________________________________________________________________\n",
      "convolution1d_6 (Convolution1D)    (None, 256, 128)    16512       lstm_6[0][0]                     \n",
      "____________________________________________________________________________________________________\n",
      "merge_3 (Merge)                    (None, 256, 128)    0           convolution1d_5[0][0]            \n",
      "                                                                   convolution1d_6[0][0]            \n",
      "____________________________________________________________________________________________________\n",
      "lstm_7 (LSTM)                      (None, 256)         394240      merge_3[0][0]                    \n",
      "====================================================================================================\n",
      "Total params: 1348352\n",
      "____________________________________________________________________________________________________\n"
     ]
    }
   ],
   "source": [
    "discretize_input = True\n",
    "use_residual = True\n",
    "use_convolutions = True\n",
    "lstm_activation = 'relu'\n",
    "conv_activation = 'relu'\n",
    "\n",
    "nb_classes = 256\n",
    "sample_length = 256\n",
    "features = 128\n",
    "hidden_units = 128\n",
    "layers = 7 # should be odd\n",
    "\n",
    "if discretize_input:\n",
    "    inputs = Input(shape=(sample_length, nb_classes))\n",
    "else:\n",
    "    inputs = Input(shape=(sample_length, 1))    \n",
    "x = inputs\n",
    "\n",
    "for i in range((layers - 1) / 2):\n",
    "    x = LSTM(hidden_units, activation=lstm_activation, return_sequences=True)(x)\n",
    "    if use_convolutions:\n",
    "        x = Convolution1D(features, 1, activation=conv_activation)(x)\n",
    "        \n",
    "    y = LSTM(hidden_units, activation=lstm_activation, return_sequences=True)(x)\n",
    "    if use_convolutions:\n",
    "        y = Convolution1D(features, 1, activation=conv_activation)(y)\n",
    "        \n",
    "    if use_residual:\n",
    "        x = merge([x, y], mode='sum')\n",
    "    else:\n",
    "        x = y\n",
    "    \n",
    "prediction = LSTM(nb_classes, activation='softmax', return_sequences=False)(x)\n",
    "\n",
    "model = Model(input=inputs, output=prediction)\n",
    "model.summary()\n",
    "\n",
    "model.compile(loss='binary_crossentropy', optimizer='rmsprop')"
   ]
  },
  {
   "cell_type": "code",
   "execution_count": null,
   "metadata": {
    "collapsed": false
   },
   "outputs": [],
   "source": [
    "# check out an example batch, make sure the generator is sane\n",
    "itr = generate_samples(dataset,\n",
    "                       batch_size=3,\n",
    "                       sample_length=2,\n",
    "                       discretize_input=discretize_input)\n",
    "for i in range(10000):\n",
    "    h,p = next(itr)\n",
    "h,p = next(itr)\n",
    "print h.shape, p.shape\n",
    "print h\n",
    "print p"
   ]
  },
  {
   "cell_type": "code",
   "execution_count": null,
   "metadata": {
    "collapsed": false
   },
   "outputs": [],
   "source": [
    "batch_size = 32\n",
    "batches_per_epoch = 100\n",
    "\n",
    "total_samples = len(dataset) / (sample_length + 1)\n",
    "samples_per_epoch = batches_per_epoch * batch_size\n",
    "epochs_per_real_epoch = total_samples / samples_per_epoch\n",
    "print total_samples, 'samples in total'\n",
    "print batch_size, 'batch_size'\n",
    "print batches_per_epoch, 'batches_per_epoch'\n",
    "print samples_per_epoch, 'samples_per_epoch'\n",
    "print epochs_per_real_epoch, 'epochs for a full pass through the data'\n",
    "\n",
    "model.fit_generator(generate_samples(dataset, batch_size, sample_length, discretize_input),\n",
    "                   samples_per_epoch=samples_per_epoch,\n",
    "                   nb_epoch=epochs_per_real_epoch)"
   ]
  }
 ],
 "metadata": {
  "kernelspec": {
   "display_name": "Python 2",
   "language": "python",
   "name": "python2"
  },
  "language_info": {
   "codemirror_mode": {
    "name": "ipython",
    "version": 2
   },
   "file_extension": ".py",
   "mimetype": "text/x-python",
   "name": "python",
   "nbconvert_exporter": "python",
   "pygments_lexer": "ipython2",
   "version": "2.7.11"
  }
 },
 "nbformat": 4,
 "nbformat_minor": 0
}
