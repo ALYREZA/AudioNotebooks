{
 "cells": [
  {
   "cell_type": "code",
   "execution_count": 21,
   "metadata": {
    "collapsed": true
   },
   "outputs": [],
   "source": [
    "import librosa\n",
    "import numpy as np\n",
    "import os\n",
    "import argparse\n",
    "import fnmatch\n",
    "from tqdm import tqdm"
   ]
  },
  {
   "cell_type": "code",
   "execution_count": 16,
   "metadata": {
    "collapsed": false
   },
   "outputs": [],
   "source": [
    "parser = argparse.ArgumentParser(description='Split audio into multiple files and build fingerprints.')\n",
    "parser.add_argument('-i', '--input', type=str, default='input')\n",
    "parser.add_argument('-o', '--output', type=str, default='output')\n",
    "parser.add_argument('-s', '--sr', type=int, default=44100)\n",
    "parser.add_argument('-l', '--hop_length', type=int, default=2048)\n",
    "parser.add_argument('-d', '--duration', type=float, default=1)\n",
    "args, _ = parser.parse_known_args()"
   ]
  },
  {
   "cell_type": "code",
   "execution_count": 10,
   "metadata": {
    "collapsed": true
   },
   "outputs": [],
   "source": [
    "def list_all_files(directory, extensions=None):\n",
    "    for root, dirnames, filenames in os.walk(directory):\n",
    "        for filename in filenames:\n",
    "            base, ext = os.path.splitext(filename)\n",
    "            joined = os.path.join(root, filename)\n",
    "            if extensions is None or ext.lower() in extensions:\n",
    "                yield joined"
   ]
  },
  {
   "cell_type": "code",
   "execution_count": 11,
   "metadata": {
    "collapsed": true
   },
   "outputs": [],
   "source": [
    "def tweak_onsets(onset_frames, o_env):\n",
    "    tweaked = []\n",
    "    for onset_frame in onset_frames:\n",
    "        while True:\n",
    "            if onset_frame == 0:\n",
    "                break\n",
    "            cur = o_env[onset_frame]\n",
    "            prev = o_env[onset_frame - 1]\n",
    "            if prev > cur:\n",
    "                break\n",
    "            onset_frame = onset_frame - 1\n",
    "        tweaked.append(onset_frame)\n",
    "    return np.array(tweaked)"
   ]
  },
  {
   "cell_type": "code",
   "execution_count": 19,
   "metadata": {
    "collapsed": true
   },
   "outputs": [],
   "source": [
    "def get_fingerprint(y, duration=1, hop_length=2048, sr=44100):\n",
    "    y = librosa.to_mono(y)\n",
    "    y = librosa.util.fix_length(y, duration * sr)\n",
    "    y = librosa.util.normalize(y)\n",
    "    cqt = librosa.cqt(y, sr=sr, hop_length=hop_length)\n",
    "    return cqt.flatten('F')"
   ]
  },
  {
   "cell_type": "code",
   "execution_count": 37,
   "metadata": {
    "collapsed": false
   },
   "outputs": [
    {
     "name": "stderr",
     "output_type": "stream",
     "text": [
      "input/crosstown-traffic.ogg: 100%|██████████| 344/344 [00:08<00:00, 41.13it/s]\n",
      "input/freedom.ogg: 100%|██████████| 493/493 [00:12<00:00, 40.07it/s]\n",
      "input/spanish-castle-magic.ogg: 100%|██████████| 253/253 [00:06<00:00, 41.05it/s]\n"
     ]
    }
   ],
   "source": [
    "fingerprints = []\n",
    "filenames_original = []\n",
    "filenames_samples = []\n",
    "for fn in list_all_files(args.input):\n",
    "    y, sr = librosa.load(fn, sr=sr)\n",
    "    \n",
    "    o_env = librosa.onset.onset_strength(y, sr=sr)\n",
    "    onset_frames = librosa.onset.onset_detect(onset_envelope=o_env, sr=sr)\n",
    "    onset_frames = tweak_onsets(onset_frames, o_env)\n",
    "    \n",
    "    onset_samples = list(librosa.frames_to_samples(onset_frames))\n",
    "    onset_samples = np.concatenate(onset_samples, len(y))\n",
    "    starts = onset_samples[0:-1]\n",
    "    stops = onset_samples[1:]\n",
    "    samples_folder = os.path.join(args.output, 'samples')\n",
    "    try:\n",
    "        os.makedirs(samples_folder)\n",
    "    except:\n",
    "        pass\n",
    "    for (start, stop) in tqdm(zip(starts, stops), desc=fn, leave=True):\n",
    "        sample = y[start:stop]\n",
    "        i = len(fingerprints)\n",
    "        sample_fn = os.path.join(samples_folder, str(i) + '.wav')\n",
    "        librosa.output.write_wav(sample_fn, sample, sr)\n",
    "        fingerprint = get_fingerprint(sample, duration=args.duration, hop_length=args.hop_length, sr=sr)\n",
    "        fingerprints.append(fingerprint.astype(np.float32))\n",
    "        filenames_original.append(fn)\n",
    "        filenames_samples.append(sample_fn)\n",
    "fingerprints = np.array(fingerprints)"
   ]
  },
  {
   "cell_type": "code",
   "execution_count": 38,
   "metadata": {
    "collapsed": false
   },
   "outputs": [],
   "source": [
    "np.save(os.path.join(args.output, 'fingerprints.npy'), fingerprints)\n",
    "np.savetxt(os.path.join(args.output, 'filenames_original.txt'), filenames_original, fmt='%s')\n",
    "np.savetxt(os.path.join(args.output, 'filenames_samples.txt'), filenames_samples, fmt='%s')"
   ]
  }
 ],
 "metadata": {
  "kernelspec": {
   "display_name": "Python 2",
   "language": "python",
   "name": "python2"
  },
  "language_info": {
   "codemirror_mode": {
    "name": "ipython",
    "version": 2
   },
   "file_extension": ".py",
   "mimetype": "text/x-python",
   "name": "python",
   "nbconvert_exporter": "python",
   "pygments_lexer": "ipython2",
   "version": "2.7.10"
  }
 },
 "nbformat": 4,
 "nbformat_minor": 0
}
