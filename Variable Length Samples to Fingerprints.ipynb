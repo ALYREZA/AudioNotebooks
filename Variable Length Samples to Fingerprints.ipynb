{
 "cells": [
  {
   "cell_type": "code",
   "execution_count": 1,
   "metadata": {
    "collapsed": false
   },
   "outputs": [],
   "source": [
    "%matplotlib inline\n",
    "from matplotlib import pyplot as plt\n",
    "from utils import list_all_files, ffmpeg_load_audio\n",
    "from tqdm import tqdm\n",
    "from scipy.ndimage.filters import gaussian_filter1d as gaussian\n",
    "import librosa\n",
    "import numpy as np"
   ]
  },
  {
   "cell_type": "code",
   "execution_count": 2,
   "metadata": {
    "collapsed": true
   },
   "outputs": [],
   "source": [
    "files = list(list_all_files('data/birds/samples', ['.wav']))"
   ]
  },
  {
   "cell_type": "code",
   "execution_count": 3,
   "metadata": {
    "collapsed": false
   },
   "outputs": [
    {
     "data": {
      "text/plain": [
       "1253"
      ]
     },
     "execution_count": 3,
     "metadata": {},
     "output_type": "execute_result"
    }
   ],
   "source": [
    "len(files)"
   ]
  },
  {
   "cell_type": "code",
   "execution_count": 4,
   "metadata": {
    "collapsed": true
   },
   "outputs": [],
   "source": [
    "import PIL.Image\n",
    "from cStringIO import StringIO\n",
    "import IPython.display\n",
    "import numpy as np\n",
    "def showarray(a, fmt='png'):\n",
    "    a = np.uint8(np.clip(a, 0, 255))\n",
    "    f = StringIO()\n",
    "    PIL.Image.fromarray(a).save(f, fmt)\n",
    "    IPython.display.display(IPython.display.Image(data=f.getvalue()))"
   ]
  },
  {
   "cell_type": "code",
   "execution_count": 11,
   "metadata": {
    "collapsed": true
   },
   "outputs": [],
   "source": [
    "def get_amp(y):\n",
    "    amp = np.abs(librosa.stft(y, n_fft=n_fft, hop_length=hop_length))\n",
    "#     amp = amp**.5 # alternative\n",
    "    amp = librosa.logamplitude(amp**2, ref_power=np.max)\n",
    "    amp = np.flipud(amp[1:]) # flip and drop dc offset\n",
    "    amp -= amp.min()\n",
    "    amp /= amp.max()\n",
    "    return amp"
   ]
  },
  {
   "cell_type": "code",
   "execution_count": 12,
   "metadata": {
    "collapsed": false,
    "scrolled": false
   },
   "outputs": [
    {
     "name": "stderr",
     "output_type": "stream",
     "text": [
      "100%|██████████| 1253/1253 [01:08<00:00, 18.18it/s]\n"
     ]
    }
   ],
   "source": [
    "sr = 44100\n",
    "n_fft = 256\n",
    "hop_length = 128\n",
    "sigma = 30\n",
    "thresh = .5\n",
    "plot = False\n",
    "\n",
    "fingerprints = []\n",
    "# for fn in files[:5]:\n",
    "for fn in tqdm(files, leave=True):\n",
    "    y, sr = ffmpeg_load_audio(fn, sr=sr)\n",
    "    y = y[0,:] # take left channel\n",
    "    amp = get_amp(y)\n",
    "    \n",
    "    if plot:\n",
    "        showarray(255 * amp)\n",
    "    \n",
    "    rms = amp.max(axis=0)\n",
    "    rms = gaussian(rms, sigma=sigma)\n",
    "    rms /= rms.max()\n",
    "    left = np.argmax(rms>thresh)\n",
    "    right = len(rms) - np.argmax(rms[::-1]>thresh)\n",
    "    \n",
    "    if plot:\n",
    "        plt.figure(figsize=(30,4))\n",
    "        plt.plot(rms)\n",
    "        plt.axvline(left)\n",
    "        plt.axvline(right)\n",
    "        plt.show()\n",
    "    \n",
    "    y = y[hop_length*left:hop_length*right]\n",
    "    amp = get_amp(y)\n",
    "    \n",
    "    fingerprints.append(amp)\n",
    "    \n",
    "    if plot:\n",
    "        showarray(255 * amp)"
   ]
  },
  {
   "cell_type": "code",
   "execution_count": 54,
   "metadata": {
    "collapsed": false
   },
   "outputs": [
    {
     "data": {
      "text/plain": [
       "[<matplotlib.lines.Line2D at 0x10c110bd0>]"
      ]
     },
     "execution_count": 54,
     "metadata": {},
     "output_type": "execute_result"
    },
    {
     "data": {
      "image/png": "[encoded data removed]",
      "text/plain": [
       "<matplotlib.figure.Figure at 0x10b3dd5d0>"
      ]
     },
     "metadata": {},
     "output_type": "display_data"
    }
   ],
   "source": [
    "lengths = [s.shape[1] for s in fingerprints]\n",
    "lengths.sort()\n",
    "plt.figure(figsize=(30,8))\n",
    "plt.plot(lengths)"
   ]
  },
  {
   "cell_type": "code",
   "execution_count": 13,
   "metadata": {
    "collapsed": true
   },
   "outputs": [],
   "source": [
    "import cPickle as pickle\n",
    "with open('data/birds/fingerprints-log.pkl', 'wb') as f:\n",
    "    pickle.dump(fingerprints, f, -1)"
   ]
  },
  {
   "cell_type": "code",
   "execution_count": null,
   "metadata": {
    "collapsed": true
   },
   "outputs": [],
   "source": []
  }
 ],
 "metadata": {
  "kernelspec": {
   "display_name": "Python 2",
   "language": "python",
   "name": "python2"
  },
  "language_info": {
   "codemirror_mode": {
    "name": "ipython",
    "version": 2
   },
   "file_extension": ".py",
   "mimetype": "text/x-python",
   "name": "python",
   "nbconvert_exporter": "python",
   "pygments_lexer": "ipython2",
   "version": "2.7.10"
  }
 },
 "nbformat": 4,
 "nbformat_minor": 0
}
