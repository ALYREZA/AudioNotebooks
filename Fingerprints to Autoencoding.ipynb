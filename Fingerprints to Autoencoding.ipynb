{
 "cells": [
  {
   "cell_type": "code",
   "execution_count": 1,
   "metadata": {
    "collapsed": true
   },
   "outputs": [],
   "source": [
    "import os\n",
    "os.environ['THEANO_FLAGS'] = 'floatX=float32,device=gpu0,nvcc.fastmath=True,optimizer_including=cudnn'"
   ]
  },
  {
   "cell_type": "code",
   "execution_count": 2,
   "metadata": {
    "collapsed": false
   },
   "outputs": [
    {
     "name": "stderr",
     "output_type": "stream",
     "text": [
      "Using Theano backend.\n",
      "Using gpu device 0: GeForce GT 750M (CNMeM is enabled with initial size: 75.0% of memory, CuDNN 4007)\n"
     ]
    }
   ],
   "source": [
    "import numpy as np\n",
    "import keras\n",
    "from keras.models import Sequential\n",
    "from keras.layers.core import Dense, Activation, Flatten, Reshape\n",
    "from keras.layers.convolutional import Convolution2D, MaxPooling2D, UpSampling2D\n",
    "from keras.utils import np_utils"
   ]
  },
  {
   "cell_type": "code",
   "execution_count": 3,
   "metadata": {
    "collapsed": false
   },
   "outputs": [
    {
     "name": "stdout",
     "output_type": "stream",
     "text": [
      "--------------------------------------------------------------------------------\n",
      "Initial input shape: (None, 128, 64)\n",
      "--------------------------------------------------------------------------------\n",
      "Layer (name)                  Output Shape                  Param #             \n",
      "--------------------------------------------------------------------------------\n",
      "Reshape (reshape)             (None, 1, 128, 64)            0                   \n",
      "Convolution2D (convolution2d) (None, 8, 128, 64)            176                 \n",
      "Convolution2D (convolution2d) (None, 8, 128, 64)            1352                \n",
      "MaxPooling2D (maxpooling2d)   (None, 8, 64, 32)             0                   \n",
      "Convolution2D (convolution2d) (None, 16, 64, 32)            12560               \n",
      "Convolution2D (convolution2d) (None, 16, 64, 32)            25104               \n",
      "MaxPooling2D (maxpooling2d)   (None, 16, 32, 16)            0                   \n",
      "Convolution2D (convolution2d) (None, 16, 32, 16)            25104               \n",
      "Convolution2D (convolution2d) (None, 16, 32, 16)            25104               \n",
      "MaxPooling2D (maxpooling2d)   (None, 16, 16, 8)             0                   \n",
      "Flatten (flatten)             (None, 2048)                  0                   \n",
      "Dense (encoded)               (None, 128)                   262272              \n",
      "Dense (dense)                 (None, 2048)                  264192              \n",
      "Reshape (reshape)             (None, 16, 16, 8)             0                   \n",
      "UpSampling2D (upsampling2d)   (None, 16, 32, 16)            0                   \n",
      "Convolution2D (convolution2d) (None, 16, 32, 16)            25104               \n",
      "Convolution2D (convolution2d) (None, 16, 32, 16)            25104               \n",
      "UpSampling2D (upsampling2d)   (None, 16, 64, 32)            0                   \n",
      "Convolution2D (convolution2d) (None, 16, 64, 32)            25104               \n",
      "Convolution2D (convolution2d) (None, 8, 64, 32)             12552               \n",
      "UpSampling2D (upsampling2d)   (None, 8, 128, 64)            0                   \n",
      "Convolution2D (convolution2d) (None, 8, 128, 64)            1352                \n",
      "Convolution2D (convolution2d) (None, 1, 128, 64)            169                 \n",
      "Reshape (reshape)             (None, 128, 64)               0                   \n",
      "--------------------------------------------------------------------------------\n",
      "Total params: 705249\n",
      "--------------------------------------------------------------------------------\n",
      "None\n"
     ]
    }
   ],
   "source": [
    "n_bands = 128\n",
    "n_time = 64\n",
    "nb_filters = 16\n",
    "nb_row = 14\n",
    "nb_col = 7\n",
    "nb_pool = 2\n",
    "nb_encode = 128\n",
    "# dropout = 0.2\n",
    "activation = 'relu'\n",
    "\n",
    "model = Sequential()\n",
    "model.add(Reshape((1, n_bands, n_time), input_shape=(n_bands, n_time)))\n",
    "model.add(Convolution2D(nb_filters/2, nb_row/2, nb_col/2, activation=activation, border_mode='same'))\n",
    "model.add(Convolution2D(nb_filters/2, nb_row/2, nb_col/2, activation=activation, border_mode='same'))\n",
    "model.add(MaxPooling2D(pool_size=(nb_pool, nb_pool)))\n",
    "model.add(Convolution2D(nb_filters, nb_row, nb_col, activation=activation, border_mode='same'))\n",
    "model.add(Convolution2D(nb_filters, nb_row, nb_col, activation=activation, border_mode='same'))\n",
    "model.add(MaxPooling2D(pool_size=(nb_pool, nb_pool)))\n",
    "model.add(Convolution2D(nb_filters, nb_row, nb_col, activation=activation, border_mode='same'))\n",
    "model.add(Convolution2D(nb_filters, nb_row, nb_col, activation=activation, border_mode='same'))\n",
    "model.add(MaxPooling2D(pool_size=(nb_pool, nb_pool)))\n",
    "model.add(Flatten())\n",
    "model.add(Dense(nb_encode, name='encoded'))\n",
    "model.add(Dense(2048)) # todo: auto\n",
    "model.add(Reshape((nb_filters, 16, 8)))  # todo: auto\n",
    "model.add(UpSampling2D(size=(nb_pool, nb_pool)))\n",
    "model.add(Convolution2D(nb_filters, nb_row, nb_col, activation=activation, border_mode='same'))\n",
    "model.add(Convolution2D(nb_filters, nb_row, nb_col, activation=activation, border_mode='same'))\n",
    "model.add(UpSampling2D(size=(nb_pool, nb_pool)))\n",
    "model.add(Convolution2D(nb_filters, nb_row, nb_col, activation=activation, border_mode='same'))\n",
    "model.add(Convolution2D(nb_filters/2, nb_row, nb_col, activation=activation, border_mode='same'))\n",
    "model.add(UpSampling2D(size=(nb_pool, nb_pool)))\n",
    "model.add(Convolution2D(nb_filters/2, nb_row/2, nb_col/2, activation=activation, border_mode='same'))\n",
    "model.add(Convolution2D(1, nb_row/2, nb_col/2, activation=activation, border_mode='same'))\n",
    "model.add(Reshape((n_bands, n_time)))\n",
    "print model.summary()"
   ]
  },
  {
   "cell_type": "code",
   "execution_count": 4,
   "metadata": {
    "collapsed": false,
    "scrolled": false
   },
   "outputs": [
    {
     "name": "stdout",
     "output_type": "stream",
     "text": [
      "CPU times: user 52.4 s, sys: 924 ms, total: 53.3 s\n",
      "Wall time: 53.7 s\n"
     ]
    }
   ],
   "source": [
    "%time model.compile(loss='mse', optimizer='rmsprop')"
   ]
  },
  {
   "cell_type": "code",
   "execution_count": 5,
   "metadata": {
    "collapsed": true
   },
   "outputs": [],
   "source": [
    "import cPickle as pickle\n",
    "with open('data/birds/fingerprints-log.pkl', 'rb') as f:\n",
    "    fingerprints = pickle.load(f)"
   ]
  },
  {
   "cell_type": "code",
   "execution_count": 6,
   "metadata": {
    "collapsed": true
   },
   "outputs": [],
   "source": [
    "from numpy.random import random_integers # this is inclusive\n",
    "def build_batch(data, shape):\n",
    "    np.random.shuffle(data)\n",
    "    X = []\n",
    "    for item in data:\n",
    "        if item.shape[0] < shape[0] or item.shape[1] < shape[1]:\n",
    "            continue\n",
    "        top = random_integers(0, item.shape[0] - shape[0])\n",
    "        bottom = top + shape[0]\n",
    "        left = random_integers(0, item.shape[1] - shape[1])\n",
    "        right = left + shape[1]\n",
    "        X.append(item[top:bottom, left:right])\n",
    "    return np.array(X)"
   ]
  },
  {
   "cell_type": "code",
   "execution_count": 7,
   "metadata": {
    "collapsed": true
   },
   "outputs": [],
   "source": [
    "import PIL.Image\n",
    "from cStringIO import StringIO\n",
    "import IPython.display\n",
    "import numpy as np\n",
    "def showarray(a, fmt='png'):\n",
    "    a = np.uint8(a)\n",
    "    f = StringIO()\n",
    "    PIL.Image.fromarray(a).save(f, fmt)\n",
    "    IPython.display.display(IPython.display.Image(data=f.getvalue()))"
   ]
  },
  {
   "cell_type": "code",
   "execution_count": 28,
   "metadata": {
    "collapsed": false
   },
   "outputs": [
    {
     "data": {
      "image/png": "[encoded data removed]",
      "text/plain": [
       "<IPython.core.display.Image object>"
      ]
     },
     "metadata": {},
     "output_type": "display_data"
    },
    {
     "data": {
      "image/png": "[encoded data removed]",
      "text/plain": [
       "<IPython.core.display.Image object>"
      ]
     },
     "metadata": {},
     "output_type": "display_data"
    },
    {
     "data": {
      "image/png": "[encoded data removed]",
      "text/plain": [
       "<IPython.core.display.Image object>"
      ]
     },
     "metadata": {},
     "output_type": "display_data"
    }
   ],
   "source": [
    "batch = build_batch(fingerprints, (n_bands, n_time))\n",
    "for item in batch[:3]:\n",
    "    showarray(item * 255)"
   ]
  },
  {
   "cell_type": "code",
   "execution_count": 9,
   "metadata": {
    "collapsed": false
   },
   "outputs": [
    {
     "name": "stdout",
     "output_type": "stream",
     "text": [
      "Epoch 0\n",
      "Epoch 1/1\n",
      "46s - loss: 53.9911\n",
      "Epoch 1\n",
      "Epoch 1/1\n",
      "46s - loss: 0.0511\n",
      "Epoch 2\n",
      "Epoch 1/1\n",
      "46s - loss: 0.0458\n",
      "Epoch 3\n",
      "Epoch 1/1\n",
      "46s - loss: 0.0419\n",
      "Epoch 4\n",
      "Epoch 1/1\n",
      "47s - loss: 0.0357\n",
      "Epoch 5\n",
      "Epoch 1/1\n",
      "46s - loss: 0.0323\n",
      "Epoch 6\n",
      "Epoch 1/1\n",
      "46s - loss: 0.0283\n",
      "Epoch 7\n",
      "Epoch 1/1\n",
      "46s - loss: 0.0263\n",
      "Epoch 8\n",
      "Epoch 1/1\n",
      "46s - loss: 0.0258\n",
      "Epoch 9\n",
      "Epoch 1/1\n",
      "46s - loss: 0.0295\n",
      "Epoch 10\n",
      "Epoch 1/1\n",
      "46s - loss: 0.0271\n",
      "Epoch 11\n",
      "Epoch 1/1\n",
      "46s - loss: 0.0237\n",
      "Epoch 12\n",
      "Epoch 1/1\n",
      "46s - loss: 0.0219\n",
      "Epoch 13\n",
      "Epoch 1/1\n",
      "46s - loss: 0.0223\n",
      "Epoch 14\n",
      "Epoch 1/1\n",
      "46s - loss: 0.0203\n",
      "Epoch 15\n",
      "Epoch 1/1\n",
      "46s - loss: 0.0201\n",
      "Epoch 16\n",
      "Epoch 1/1\n",
      "46s - loss: 0.0188\n",
      "Epoch 17\n",
      "Epoch 1/1\n",
      "46s - loss: 0.0183\n",
      "Epoch 18\n",
      "Epoch 1/1\n",
      "46s - loss: 0.0178\n",
      "Epoch 19\n",
      "Epoch 1/1\n",
      "46s - loss: 0.0183\n",
      "Epoch 20\n",
      "Epoch 1/1\n",
      "46s - loss: 0.0174\n",
      "Epoch 21\n",
      "Epoch 1/1\n",
      "46s - loss: 0.0160\n",
      "Epoch 22\n",
      "Epoch 1/1\n",
      "46s - loss: 0.0164\n",
      "Epoch 23\n",
      "Epoch 1/1\n",
      "46s - loss: 0.0149\n",
      "Epoch 24\n",
      "Epoch 1/1\n",
      "46s - loss: 0.0152\n",
      "Epoch 25\n",
      "Epoch 1/1\n",
      "46s - loss: 0.0146\n",
      "Epoch 26\n",
      "Epoch 1/1\n",
      "46s - loss: 0.0144\n",
      "Epoch 27\n",
      "Epoch 1/1\n",
      "46s - loss: 0.0139\n",
      "Epoch 28\n",
      "Epoch 1/1\n",
      "46s - loss: 0.0137\n",
      "Epoch 29\n",
      "Epoch 1/1\n",
      "46s - loss: 0.0139\n",
      "Epoch 30\n",
      "Epoch 1/1\n",
      "46s - loss: 0.0137\n",
      "Epoch 31\n",
      "Epoch 1/1\n",
      "46s - loss: 0.0130\n",
      "Epoch 32\n",
      "Epoch 1/1\n",
      "46s - loss: 0.0130\n",
      "Epoch 33\n",
      "Epoch 1/1\n",
      "46s - loss: 0.0128\n",
      "Epoch 34\n",
      "Epoch 1/1\n",
      "46s - loss: 0.0129\n",
      "Epoch 35\n",
      "Epoch 1/1\n",
      "46s - loss: 0.0116\n",
      "Epoch 36\n",
      "Epoch 1/1\n",
      "46s - loss: 0.0124\n",
      "Epoch 37\n",
      "Epoch 1/1\n",
      "46s - loss: 0.0122\n",
      "Epoch 38\n",
      "Epoch 1/1\n",
      "46s - loss: 0.0118\n",
      "Epoch 39\n",
      "Epoch 1/1\n",
      "46s - loss: 0.0121\n",
      "Epoch 40\n",
      "Epoch 1/1\n",
      "46s - loss: 0.0118\n",
      "Epoch 41\n",
      "Epoch 1/1\n",
      "46s - loss: 0.0114\n",
      "Epoch 42\n",
      "Epoch 1/1\n",
      "46s - loss: 0.0115\n",
      "Epoch 43\n",
      "Epoch 1/1\n",
      "46s - loss: 0.0115\n",
      "Epoch 44\n",
      "Epoch 1/1\n",
      "46s - loss: 0.0116\n",
      "Epoch 45\n",
      "Epoch 1/1\n",
      "46s - loss: 0.0113\n",
      "Epoch 46\n",
      "Epoch 1/1\n",
      "46s - loss: 0.0108\n",
      "Epoch 47\n",
      "Epoch 1/1\n",
      "46s - loss: 0.0113\n",
      "Epoch 48\n",
      "Epoch 1/1\n",
      "46s - loss: 0.0109\n",
      "Epoch 49\n",
      "Epoch 1/1\n",
      "46s - loss: 0.0107\n",
      "Epoch 50\n",
      "Epoch 1/1\n",
      "46s - loss: 0.0110\n",
      "Epoch 51\n",
      "Epoch 1/1\n",
      "46s - loss: 0.0106\n",
      "Epoch 52\n",
      "Epoch 1/1\n",
      "46s - loss: 0.0113\n",
      "Epoch 53\n",
      "Epoch 1/1\n",
      "47s - loss: 0.0108\n",
      "Epoch 54\n",
      "Epoch 1/1\n",
      "47s - loss: 0.0103\n",
      "Epoch 55\n",
      "Epoch 1/1\n",
      "46s - loss: 0.0110\n",
      "Epoch 56\n",
      "Epoch 1/1\n",
      "47s - loss: 0.0104\n",
      "Epoch 57\n",
      "Epoch 1/1\n",
      "46s - loss: 0.0106\n",
      "Epoch 58\n",
      "Epoch 1/1\n",
      "47s - loss: 0.0102\n",
      "Epoch 59\n",
      "Epoch 1/1\n",
      "46s - loss: 0.0104\n",
      "Epoch 60\n",
      "Epoch 1/1\n",
      "47s - loss: 0.0098\n",
      "Epoch 61\n",
      "Epoch 1/1\n",
      "47s - loss: 0.0102\n",
      "Epoch 62\n",
      "Epoch 1/1\n",
      "47s - loss: 0.0103\n",
      "Epoch 63\n",
      "Epoch 1/1\n",
      "47s - loss: 0.0102\n",
      "Epoch 64\n",
      "Epoch 1/1\n",
      "47s - loss: 0.0097\n",
      "Epoch 65\n",
      "Epoch 1/1\n",
      "47s - loss: 0.0098\n",
      "Epoch 66\n",
      "Epoch 1/1\n",
      "47s - loss: 0.0102\n",
      "Epoch 67\n",
      "Epoch 1/1\n",
      "47s - loss: 0.0098\n",
      "Epoch 68\n",
      "Epoch 1/1\n",
      "47s - loss: 0.0098\n",
      "Epoch 69\n",
      "Epoch 1/1\n",
      "47s - loss: 0.0098\n",
      "Epoch 70\n",
      "Epoch 1/1\n",
      "47s - loss: 0.0097\n",
      "Epoch 71\n",
      "Epoch 1/1\n",
      "47s - loss: 0.0099\n",
      "Epoch 72\n",
      "Epoch 1/1\n",
      "47s - loss: 0.0095\n",
      "Epoch 73\n",
      "Epoch 1/1\n",
      "47s - loss: 0.0101\n",
      "Epoch 74\n",
      "Epoch 1/1\n",
      "47s - loss: 0.0094\n",
      "Epoch 75\n",
      "Epoch 1/1\n",
      "47s - loss: 0.0095\n",
      "Epoch 76\n",
      "Epoch 1/1\n",
      "47s - loss: 0.0096\n",
      "Epoch 77\n",
      "Epoch 1/1\n",
      "47s - loss: 0.0096\n",
      "Epoch 78\n",
      "Epoch 1/1\n",
      "47s - loss: 0.0101\n",
      "Epoch 79\n",
      "Epoch 1/1\n",
      "46s - loss: 0.0094\n",
      "Epoch 80\n",
      "Epoch 1/1\n",
      "47s - loss: 0.0094\n",
      "Epoch 81\n",
      "Epoch 1/1\n",
      "47s - loss: 0.0094\n",
      "Epoch 82\n",
      "Epoch 1/1\n",
      "47s - loss: 0.0092\n",
      "Epoch 83\n",
      "Epoch 1/1\n",
      "47s - loss: 0.0092\n",
      "Epoch 84\n",
      "Epoch 1/1\n",
      "47s - loss: 0.0093\n",
      "Epoch 85\n",
      "Epoch 1/1\n",
      "47s - loss: 0.0096\n",
      "Epoch 86\n",
      "Epoch 1/1\n",
      "47s - loss: 0.0089\n",
      "Epoch 87\n",
      "Epoch 1/1\n",
      "47s - loss: 0.0094\n",
      "Epoch 88\n",
      "Epoch 1/1\n",
      "47s - loss: 0.0091\n",
      "Epoch 89\n",
      "Epoch 1/1\n",
      "47s - loss: 0.0093\n",
      "Epoch 90\n",
      "Epoch 1/1\n",
      "47s - loss: 0.0090\n",
      "Epoch 91\n",
      "Epoch 1/1\n",
      "47s - loss: 0.0090\n",
      "Epoch 92\n",
      "Epoch 1/1\n",
      "47s - loss: 0.0091\n",
      "Epoch 93\n",
      "Epoch 1/1\n",
      "47s - loss: 0.0095\n",
      "Epoch 94\n",
      "Epoch 1/1\n",
      "47s - loss: 0.0090\n",
      "Epoch 95\n",
      "Epoch 1/1\n",
      "47s - loss: 0.0092\n",
      "Epoch 96\n",
      "Epoch 1/1\n",
      "47s - loss: 0.0094\n",
      "Epoch 97\n",
      "Epoch 1/1\n",
      "47s - loss: 0.0088\n",
      "Epoch 98\n",
      "Epoch 1/1\n",
      "47s - loss: 0.0090\n",
      "Epoch 99\n",
      "Epoch 1/1\n",
      "47s - loss: 0.0088\n",
      "Epoch 100\n",
      "Epoch 1/1\n",
      "46s - loss: 0.0089\n",
      "Epoch 101\n",
      "Epoch 1/1\n",
      "47s - loss: 0.0088\n",
      "Epoch 102\n",
      "Epoch 1/1\n",
      "47s - loss: 0.0094\n",
      "Epoch 103\n",
      "Epoch 1/1\n",
      "47s - loss: 0.0088\n",
      "Epoch 104\n",
      "Epoch 1/1\n",
      "47s - loss: 0.0089\n",
      "Epoch 105\n",
      "Epoch 1/1\n",
      "47s - loss: 0.0087\n",
      "Epoch 106\n",
      "Epoch 1/1\n",
      "47s - loss: 0.0091\n",
      "Epoch 107\n",
      "Epoch 1/1\n",
      "46s - loss: 0.0086\n",
      "Epoch 108\n",
      "Epoch 1/1\n",
      "47s - loss: 0.0090\n",
      "Epoch 109\n",
      "Epoch 1/1\n",
      "47s - loss: 0.0088\n",
      "Epoch 110\n",
      "Epoch 1/1\n"
     ]
    }
   ],
   "source": [
    "history = []\n",
    "try:\n",
    "    for i in range(250):\n",
    "        print 'Epoch %i' % i\n",
    "        X = build_batch(fingerprints, (n_bands, n_time))\n",
    "        cur = model.fit(X, X, verbose=2, nb_epoch=1, batch_size=64)\n",
    "        history.append(cur)\n",
    "except KeyboardInterrupt:\n",
    "    pass"
   ]
  },
  {
   "cell_type": "code",
   "execution_count": 10,
   "metadata": {
    "collapsed": true
   },
   "outputs": [],
   "source": [
    "from keras import backend as K\n",
    "get_encoding = K.function([model.layers[0].input], \n",
    "                          [model.layers[11].get_output(train=False)])"
   ]
  },
  {
   "cell_type": "code",
   "execution_count": 11,
   "metadata": {
    "collapsed": false
   },
   "outputs": [],
   "source": [
    "encoding = get_encoding([batch])[0]"
   ]
  },
  {
   "cell_type": "code",
   "execution_count": 12,
   "metadata": {
    "collapsed": true
   },
   "outputs": [],
   "source": [
    "from scipy.spatial.distance import pdist, squareform\n",
    "distances_vector = pdist(encoding, 'cosine')\n",
    "distances_matrix = squareform(distances_vector)"
   ]
  },
  {
   "cell_type": "code",
   "execution_count": 17,
   "metadata": {
    "collapsed": false,
    "scrolled": true
   },
   "outputs": [
    {
     "name": "stdout",
     "output_type": "stream",
     "text": [
      "0.0104745079818\n",
      "343053\n",
      "273 984\n"
     ]
    },
    {
     "data": {
      "image/png": "[encoded data removed]",
      "text/plain": [
       "<IPython.core.display.Image object>"
      ]
     },
     "metadata": {},
     "output_type": "display_data"
    },
    {
     "data": {
      "image/png": "[encoded data removed]",
      "text/plain": [
       "<IPython.core.display.Image object>"
      ]
     },
     "metadata": {},
     "output_type": "display_data"
    }
   ],
   "source": [
    "best = sorted(distances_vector)[np.random.randint(0,1000)]\n",
    "print best\n",
    "match = (distances_matrix == best).argmax()\n",
    "print match\n",
    "a = match / len(encoding)\n",
    "b = match % len(encoding)\n",
    "print a, b\n",
    "showarray(batch[a]*255)\n",
    "showarray(batch[b]*255)"
   ]
  },
  {
   "cell_type": "code",
   "execution_count": 18,
   "metadata": {
    "collapsed": true
   },
   "outputs": [],
   "source": [
    "predicted = model.predict(batch)"
   ]
  },
  {
   "cell_type": "code",
   "execution_count": 19,
   "metadata": {
    "collapsed": false
   },
   "outputs": [
    {
     "data": {
      "text/plain": [
       "(1253, 128, 64)"
      ]
     },
     "execution_count": 19,
     "metadata": {},
     "output_type": "execute_result"
    }
   ],
   "source": [
    "predicted.shape"
   ]
  },
  {
   "cell_type": "code",
   "execution_count": null,
   "metadata": {
    "collapsed": false
   },
   "outputs": [],
   "source": [
    "for i in range(10):\n",
    "    showarray(batch[i] * 255)\n",
    "    showarray(predicted[i] * 255)"
   ]
  },
  {
   "cell_type": "code",
   "execution_count": null,
   "metadata": {
    "collapsed": true
   },
   "outputs": [],
   "source": []
  }
 ],
 "metadata": {
  "kernelspec": {
   "display_name": "Python 2",
   "language": "python",
   "name": "python2"
  },
  "language_info": {
   "codemirror_mode": {
    "name": "ipython",
    "version": 2
   },
   "file_extension": ".py",
   "mimetype": "text/x-python",
   "name": "python",
   "nbconvert_exporter": "python",
   "pygments_lexer": "ipython2",
   "version": "2.7.10"
  }
 },
 "nbformat": 4,
 "nbformat_minor": 0
}
