{
 "cells": [
  {
   "cell_type": "code",
   "execution_count": 1,
   "metadata": {
    "collapsed": false
   },
   "outputs": [],
   "source": [
    "%matplotlib inline\n",
    "from matplotlib import pyplot as plt\n",
    "import numpy as np"
   ]
  },
  {
   "cell_type": "code",
   "execution_count": 6,
   "metadata": {
    "collapsed": true
   },
   "outputs": [],
   "source": [
    "def normalize(X):\n",
    "    X -= X.min(axis=0)\n",
    "    X /= X.max(axis=0)\n",
    "    return X"
   ]
  },
  {
   "cell_type": "code",
   "execution_count": 54,
   "metadata": {
    "collapsed": false
   },
   "outputs": [],
   "source": [
    "def run_weighted(basename, perplexity):\n",
    "    X_2d = np.loadtxt('{}.{}.2d.tsv'.format(basename, perplexity), delimiter='\\t')\n",
    "    X_3d = np.loadtxt('{}.{}.3d.tsv'.format(basename, perplexity), delimiter='\\t')\n",
    "    plt.figure(figsize=(20, 20))\n",
    "    plt.scatter(X_2d[:,0], X_2d[:,1], marker='+', c=X_3d)\n",
    "    plt.tight_layout()\n",
    "    plt.savefig('{}.{}.png'.format(basename, perplexity))\n",
    "    plt.close()"
   ]
  },
  {
   "cell_type": "code",
   "execution_count": 55,
   "metadata": {
    "collapsed": false
   },
   "outputs": [],
   "source": [
    "def run_perplexities(basename):\n",
    "    for perplexity in [1, 10, 30, 50, 100]:\n",
    "        run_weighted(basename, perplexity)"
   ]
  },
  {
   "cell_type": "code",
   "execution_count": 47,
   "metadata": {
    "collapsed": false
   },
   "outputs": [],
   "source": [
    "run_perplexities('data/28k/tsne/env')"
   ]
  },
  {
   "cell_type": "code",
   "execution_count": 48,
   "metadata": {
    "collapsed": false
   },
   "outputs": [],
   "source": [
    "run_perplexities('data/28k/tsne/spec')"
   ]
  },
  {
   "cell_type": "code",
   "execution_count": 49,
   "metadata": {
    "collapsed": false
   },
   "outputs": [],
   "source": [
    "run_perplexities('data/28k/tsne/chroma')"
   ]
  },
  {
   "cell_type": "code",
   "execution_count": 50,
   "metadata": {
    "collapsed": false
   },
   "outputs": [],
   "source": [
    "run_perplexities('data/28k/tsne/spec+chroma')"
   ]
  },
  {
   "cell_type": "code",
   "execution_count": 51,
   "metadata": {
    "collapsed": false
   },
   "outputs": [],
   "source": [
    "run_perplexities('data/28k/tsne/env+chroma')"
   ]
  },
  {
   "cell_type": "code",
   "execution_count": 52,
   "metadata": {
    "collapsed": false
   },
   "outputs": [],
   "source": [
    "run_perplexities('data/28k/tsne/all-chroma')"
   ]
  },
  {
   "cell_type": "code",
   "execution_count": 53,
   "metadata": {
    "collapsed": false
   },
   "outputs": [],
   "source": [
    "run_perplexities('data/28k/tsne/all')"
   ]
  },
  {
   "cell_type": "code",
   "execution_count": 39,
   "metadata": {
    "collapsed": false
   },
   "outputs": [
    {
     "name": "stdout",
     "output_type": "stream",
     "text": [
      "mv: rename data/28k/tsne/*.png to data/28k/render/*.png: No such file or directory\r\n"
     ]
    }
   ],
   "source": [
    "!mkdir -p data/28k/render\n",
    "!mv data/28k/tsne/*.png data/28k/render/"
   ]
  },
  {
   "cell_type": "code",
   "execution_count": null,
   "metadata": {
    "collapsed": true
   },
   "outputs": [],
   "source": []
  }
 ],
 "metadata": {
  "kernelspec": {
   "display_name": "Python 2",
   "language": "python",
   "name": "python2"
  },
  "language_info": {
   "codemirror_mode": {
    "name": "ipython",
    "version": 2
   },
   "file_extension": ".py",
   "mimetype": "text/x-python",
   "name": "python",
   "nbconvert_exporter": "python",
   "pygments_lexer": "ipython2",
   "version": "2.7.10"
  }
 },
 "nbformat": 4,
 "nbformat_minor": 0
}
