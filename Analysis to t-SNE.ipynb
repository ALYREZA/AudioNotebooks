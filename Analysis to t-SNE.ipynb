{
 "cells": [
  {
   "cell_type": "code",
   "execution_count": 5,
   "metadata": {
    "collapsed": false
   },
   "outputs": [],
   "source": [
    "%matplotlib inline\n",
    "from matplotlib import pyplot as plt\n",
    "import numpy as np\n",
    "from tsne import bh_sne"
   ]
  },
  {
   "cell_type": "code",
   "execution_count": 13,
   "metadata": {
    "collapsed": true
   },
   "outputs": [],
   "source": [
    "data_dir = 'data/birds/'"
   ]
  },
  {
   "cell_type": "code",
   "execution_count": 7,
   "metadata": {
    "collapsed": true
   },
   "outputs": [],
   "source": [
    "import cPickle as pickle\n",
    "with open(data_dir + 'results.pkl', 'r') as f:\n",
    "    results = pickle.load(f)"
   ]
  },
  {
   "cell_type": "code",
   "execution_count": 8,
   "metadata": {
    "collapsed": true
   },
   "outputs": [],
   "source": [
    "def normalize(X):\n",
    "    X -= X.min(axis=0)\n",
    "    X /= X.max(axis=0)\n",
    "    return X"
   ]
  },
  {
   "cell_type": "code",
   "execution_count": 9,
   "metadata": {
    "collapsed": false
   },
   "outputs": [],
   "source": [
    "labels = \\\n",
    "    ['Peak Position', 'Overall Power', 'Spectral Centroid', 'Spectral Bandwidth', 'Spectral Rolloff'] + \\\n",
    "    ['Initial Power', 'Middle Power', 'Late Power'] + \\\n",
    "    ['C', 'C#', 'D', 'D#', 'E', 'F', 'F#', 'G', 'G#', 'A', 'A#', 'B']\n",
    "np.savetxt(data_dir + '/analysis.columns.tsv', labels, fmt='%s', delimiter='\\t')"
   ]
  },
  {
   "cell_type": "code",
   "execution_count": 10,
   "metadata": {
    "collapsed": false
   },
   "outputs": [],
   "source": [
    "def get_results(results):\n",
    "    X = []\n",
    "    for x in results:\n",
    "        cur = [\n",
    "            x['peak'],\n",
    "            x['power'],\n",
    "            x['centroid'],\n",
    "            x['bandwidth'],\n",
    "            x['rolloff'],\n",
    "        ]\n",
    "        cur.extend(x['percentiles'])\n",
    "        cur.extend(x['chroma'])\n",
    "        X.append(cur)\n",
    "    X = np.array(X)\n",
    "    X = normalize(X)\n",
    "    return X\n",
    "\n",
    "def get_weighted(results, weights):\n",
    "    X = get_results(results)\n",
    "    if 'peak' in weights:\n",
    "        X[:,0] *= weights['peak']\n",
    "    if 'power' in weights:\n",
    "        X[:,1] *= weights['power']\n",
    "    if 'centroid' in weights:\n",
    "        X[:,2] *= weights['centroid']\n",
    "    if 'bandwidth' in weights:\n",
    "        X[:,3] *= weights['bandwidth']\n",
    "    if 'rolloff' in weights:\n",
    "        X[:,4] *= weights['rolloff']\n",
    "    if 'percentiles' in weights:\n",
    "        X[:,5:7] *= weights['percentiles']\n",
    "    if 'chroma' in weights:\n",
    "        X[:,7:] *= weights['chroma']\n",
    "    return X"
   ]
  },
  {
   "cell_type": "code",
   "execution_count": 12,
   "metadata": {
    "collapsed": false
   },
   "outputs": [],
   "source": [
    "np.savetxt(data_dir + 'tsne/analysis.tsv', get_results(results), fmt='%.5f', delimiter='\\t')"
   ]
  },
  {
   "cell_type": "code",
   "execution_count": 20,
   "metadata": {
    "collapsed": true
   },
   "outputs": [],
   "source": [
    "def save_tsne(basename, X, d, perplexity):\n",
    "    embedded = bh_sne(X, d=d, perplexity=perplexity)\n",
    "    embedded = normalize(embedded)\n",
    "    np.savetxt(basename + '.{}.{}d.tsv'.format(perplexity, d), embedded, fmt='%.5f', delimiter='\\t')"
   ]
  },
  {
   "cell_type": "code",
   "execution_count": 15,
   "metadata": {
    "collapsed": false
   },
   "outputs": [],
   "source": [
    "def run_weighted(basename, results, weights, perplexity):\n",
    "    X = get_weighted(results, weights)\n",
    "    save_tsne(basename, X, 2, perplexity)\n",
    "    save_tsne(basename, X, 3, perplexity)"
   ]
  },
  {
   "cell_type": "code",
   "execution_count": 16,
   "metadata": {
    "collapsed": false
   },
   "outputs": [],
   "source": [
    "def run_perplexities(basename, results, weights):\n",
    "    for perplexity in [1, 10, 30, 50, 100]:\n",
    "        run_weighted(basename, results, weights, perplexity)"
   ]
  },
  {
   "cell_type": "code",
   "execution_count": 21,
   "metadata": {
    "collapsed": false
   },
   "outputs": [],
   "source": [
    "run_perplexities(data_dir + 'tsne/env', results, {\n",
    "    'peak': 1,\n",
    "    'power': 1,\n",
    "    'centroid': 0,\n",
    "    'bandwidth': 0,\n",
    "    'rolloff': 0,\n",
    "    'percentiles': 1,\n",
    "    'chroma': 0,\n",
    "})"
   ]
  },
  {
   "cell_type": "code",
   "execution_count": 22,
   "metadata": {
    "collapsed": true
   },
   "outputs": [],
   "source": [
    "run_perplexities(data_dir + 'tsne/spec', results, {\n",
    "    'peak': 0,\n",
    "    'power': 0,\n",
    "    'centroid': 1,\n",
    "    'bandwidth': 1,\n",
    "    'rolloff': 1,\n",
    "    'percentiles': 0,\n",
    "    'chroma': 0,\n",
    "})"
   ]
  },
  {
   "cell_type": "code",
   "execution_count": 23,
   "metadata": {
    "collapsed": true
   },
   "outputs": [],
   "source": [
    "run_perplexities(data_dir + 'tsne/chroma', results, {\n",
    "    'peak': 0,\n",
    "    'power': 0,\n",
    "    'centroid': 0,\n",
    "    'bandwidth': 0,\n",
    "    'rolloff': 0,\n",
    "    'percentiles': 0,\n",
    "    'chroma': 1,\n",
    "})"
   ]
  },
  {
   "cell_type": "code",
   "execution_count": 24,
   "metadata": {
    "collapsed": true
   },
   "outputs": [],
   "source": [
    "run_perplexities(data_dir + 'tsne/spec+chroma', results, {\n",
    "    'peak': 0,\n",
    "    'power': 0,\n",
    "    'centroid': 1,\n",
    "    'bandwidth': 1,\n",
    "    'rolloff': 1,\n",
    "    'percentiles': 0,\n",
    "    'chroma': 1,\n",
    "})"
   ]
  },
  {
   "cell_type": "code",
   "execution_count": 25,
   "metadata": {
    "collapsed": true
   },
   "outputs": [],
   "source": [
    "run_perplexities(data_dir + 'tsne/env+chroma', results, {\n",
    "    'peak': 1,\n",
    "    'power': 1,\n",
    "    'centroid': 0,\n",
    "    'bandwidth': 0,\n",
    "    'rolloff': 0,\n",
    "    'percentiles': 1,\n",
    "    'chroma': 1,\n",
    "})"
   ]
  },
  {
   "cell_type": "code",
   "execution_count": 26,
   "metadata": {
    "collapsed": true
   },
   "outputs": [],
   "source": [
    "run_perplexities(data_dir + 'tsne/all-chroma', results, {\n",
    "    'peak': 1,\n",
    "    'power': 1,\n",
    "    'centroid': 1,\n",
    "    'bandwidth': 1,\n",
    "    'rolloff': 1,\n",
    "    'percentiles': 1,\n",
    "    'chroma': 0,\n",
    "})"
   ]
  },
  {
   "cell_type": "code",
   "execution_count": 27,
   "metadata": {
    "collapsed": true
   },
   "outputs": [],
   "source": [
    "run_perplexities(data_dir + 'tsne/all', results, {\n",
    "    'peak': 1,\n",
    "    'power': 1,\n",
    "    'centroid': 1,\n",
    "    'bandwidth': 1,\n",
    "    'rolloff': 1,\n",
    "    'percentiles': 1,\n",
    "    'chroma': 1,\n",
    "})"
   ]
  },
  {
   "cell_type": "code",
   "execution_count": null,
   "metadata": {
    "collapsed": true
   },
   "outputs": [],
   "source": []
  }
 ],
 "metadata": {
  "kernelspec": {
   "display_name": "Python 2",
   "language": "python",
   "name": "python2"
  },
  "language_info": {
   "codemirror_mode": {
    "name": "ipython",
    "version": 2
   },
   "file_extension": ".py",
   "mimetype": "text/x-python",
   "name": "python",
   "nbconvert_exporter": "python",
   "pygments_lexer": "ipython2",
   "version": "2.7.10"
  }
 },
 "nbformat": 4,
 "nbformat_minor": 0
}
