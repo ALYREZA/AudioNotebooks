{
 "cells": [
  {
   "cell_type": "code",
   "execution_count": 1,
   "metadata": {
    "collapsed": false
   },
   "outputs": [],
   "source": [
    "%matplotlib inline\n",
    "from matplotlib import pyplot as plt\n",
    "import numpy as np\n",
    "from tsne import bh_sne"
   ]
  },
  {
   "cell_type": "code",
   "execution_count": 2,
   "metadata": {
    "collapsed": true
   },
   "outputs": [],
   "source": [
    "data_root = 'data/freesound/'"
   ]
  },
  {
   "cell_type": "code",
   "execution_count": 4,
   "metadata": {
    "collapsed": true
   },
   "outputs": [],
   "source": [
    "import cPickle as pickle\n",
    "with open(data_root + 'analysis.pkl', 'r') as f:\n",
    "    analysis = pickle.load(f)"
   ]
  },
  {
   "cell_type": "code",
   "execution_count": 46,
   "metadata": {
    "collapsed": true
   },
   "outputs": [],
   "source": [
    "def normalize(X):\n",
    "    X -= X.min(axis=0)\n",
    "    X /= X.max(axis=0)\n",
    "    return X"
   ]
  },
  {
   "cell_type": "code",
   "execution_count": 6,
   "metadata": {
    "collapsed": false
   },
   "outputs": [],
   "source": [
    "labels = \\\n",
    "    ['Peak Position', 'Overall Power', 'Spectral Centroid', 'Spectral Bandwidth', 'Spectral Rolloff'] + \\\n",
    "    ['Initial Power', 'Middle Power', 'Late Power'] + \\\n",
    "    ['C', 'C#', 'D', 'D#', 'E', 'F', 'F#', 'G', 'G#', 'A', 'A#', 'B']\n",
    "np.savetxt(data_root + '/analysis.columns.tsv', labels, fmt='%s', delimiter='\\t')"
   ]
  },
  {
   "cell_type": "code",
   "execution_count": 47,
   "metadata": {
    "collapsed": false
   },
   "outputs": [],
   "source": [
    "def get_normalized(analysis):\n",
    "    X = []\n",
    "    for x in analysis:\n",
    "        cur = [\n",
    "            x['peak'],\n",
    "            x['power'],\n",
    "            x['centroid'],\n",
    "            x['bandwidth'],\n",
    "            x['rolloff'],\n",
    "        ]\n",
    "        cur.extend(x['percentiles'])\n",
    "        cur.extend(x['chroma'])\n",
    "        X.append(cur)\n",
    "    X = np.array(X)\n",
    "    X = normalize(X)\n",
    "    return X\n",
    "\n",
    "def get_weighted(analysis, weights):\n",
    "    X = get_normalized(analysis)\n",
    "    if 'peak' in weights:\n",
    "        X[:,0] *= weights['peak']\n",
    "    if 'power' in weights:\n",
    "        X[:,1] *= weights['power']\n",
    "    if 'centroid' in weights:\n",
    "        X[:,2] *= weights['centroid']\n",
    "    if 'bandwidth' in weights:\n",
    "        X[:,3] *= weights['bandwidth']\n",
    "    if 'rolloff' in weights:\n",
    "        X[:,4] *= weights['rolloff']\n",
    "    if 'percentiles' in weights:\n",
    "        X[:,5:7] *= weights['percentiles']\n",
    "    if 'chroma' in weights:\n",
    "        X[:,7:] *= weights['chroma']\n",
    "    return X"
   ]
  },
  {
   "cell_type": "code",
   "execution_count": 51,
   "metadata": {
    "collapsed": false
   },
   "outputs": [],
   "source": [
    "np.savetxt(data_root + 'analysis.tsv', get_normalized(analysis), fmt='%.5f', delimiter='\\t')"
   ]
  },
  {
   "cell_type": "code",
   "execution_count": 50,
   "metadata": {
    "collapsed": false
   },
   "outputs": [
    {
     "data": {
      "image/png": "[encoded data removed]",
      "text/plain": [
       "<matplotlib.figure.Figure at 0x117a063d0>"
      ]
     },
     "metadata": {},
     "output_type": "display_data"
    }
   ],
   "source": [
    "normalized = get_normalized(analysis)\n",
    "# normalized -= normalized.min(axis=0)\n",
    "# normalized /= normalized.max(axis=0)\n",
    "plt.plot(normalized[:24].min(axis=0))\n",
    "plt.show()"
   ]
  },
  {
   "cell_type": "code",
   "execution_count": 20,
   "metadata": {
    "collapsed": true
   },
   "outputs": [],
   "source": [
    "def save_tsne(basename, X, d, perplexity):\n",
    "    embedded = bh_sne(X, d=d, perplexity=perplexity)\n",
    "    embedded = normalize(embedded)\n",
    "    np.savetxt(basename + '.{}.{}d.tsv'.format(perplexity, d), embedded, fmt='%.5f', delimiter='\\t')"
   ]
  },
  {
   "cell_type": "code",
   "execution_count": 15,
   "metadata": {
    "collapsed": false
   },
   "outputs": [],
   "source": [
    "def run_weighted(basename, analysis, weights, perplexity):\n",
    "    X = get_weighted(analysis, weights)\n",
    "    save_tsne(basename, X, 2, perplexity)\n",
    "    save_tsne(basename, X, 3, perplexity)"
   ]
  },
  {
   "cell_type": "code",
   "execution_count": 16,
   "metadata": {
    "collapsed": false
   },
   "outputs": [],
   "source": [
    "def run_perplexities(basename, analysis, weights):\n",
    "    for perplexity in [1, 10, 30, 50, 100]:\n",
    "        run_weighted(basename, analysis, weights, perplexity)"
   ]
  },
  {
   "cell_type": "code",
   "execution_count": 21,
   "metadata": {
    "collapsed": false
   },
   "outputs": [],
   "source": [
    "run_perplexities(data_root + 'tsne/env', analysis, {\n",
    "    'peak': 1,\n",
    "    'power': 1,\n",
    "    'centroid': 0,\n",
    "    'bandwidth': 0,\n",
    "    'rolloff': 0,\n",
    "    'percentiles': 1,\n",
    "    'chroma': 0,\n",
    "})"
   ]
  },
  {
   "cell_type": "code",
   "execution_count": 22,
   "metadata": {
    "collapsed": true
   },
   "outputs": [],
   "source": [
    "run_perplexities(data_root + 'tsne/spec', analysis, {\n",
    "    'peak': 0,\n",
    "    'power': 0,\n",
    "    'centroid': 1,\n",
    "    'bandwidth': 1,\n",
    "    'rolloff': 1,\n",
    "    'percentiles': 0,\n",
    "    'chroma': 0,\n",
    "})"
   ]
  },
  {
   "cell_type": "code",
   "execution_count": 23,
   "metadata": {
    "collapsed": true
   },
   "outputs": [],
   "source": [
    "run_perplexities(data_root + 'tsne/chroma', analysis, {\n",
    "    'peak': 0,\n",
    "    'power': 0,\n",
    "    'centroid': 0,\n",
    "    'bandwidth': 0,\n",
    "    'rolloff': 0,\n",
    "    'percentiles': 0,\n",
    "    'chroma': 1,\n",
    "})"
   ]
  },
  {
   "cell_type": "code",
   "execution_count": 24,
   "metadata": {
    "collapsed": true
   },
   "outputs": [],
   "source": [
    "run_perplexities(data_root + 'tsne/spec+chroma', analysis, {\n",
    "    'peak': 0,\n",
    "    'power': 0,\n",
    "    'centroid': 1,\n",
    "    'bandwidth': 1,\n",
    "    'rolloff': 1,\n",
    "    'percentiles': 0,\n",
    "    'chroma': 1,\n",
    "})"
   ]
  },
  {
   "cell_type": "code",
   "execution_count": 25,
   "metadata": {
    "collapsed": true
   },
   "outputs": [],
   "source": [
    "run_perplexities(data_root + 'tsne/env+chroma', analysis, {\n",
    "    'peak': 1,\n",
    "    'power': 1,\n",
    "    'centroid': 0,\n",
    "    'bandwidth': 0,\n",
    "    'rolloff': 0,\n",
    "    'percentiles': 1,\n",
    "    'chroma': 1,\n",
    "})"
   ]
  },
  {
   "cell_type": "code",
   "execution_count": 26,
   "metadata": {
    "collapsed": true
   },
   "outputs": [],
   "source": [
    "run_perplexities(data_root + 'tsne/all-chroma', analysis, {\n",
    "    'peak': 1,\n",
    "    'power': 1,\n",
    "    'centroid': 1,\n",
    "    'bandwidth': 1,\n",
    "    'rolloff': 1,\n",
    "    'percentiles': 1,\n",
    "    'chroma': 0,\n",
    "})"
   ]
  },
  {
   "cell_type": "code",
   "execution_count": 27,
   "metadata": {
    "collapsed": true
   },
   "outputs": [],
   "source": [
    "run_perplexities(data_root + 'tsne/all', analysis, {\n",
    "    'peak': 1,\n",
    "    'power': 1,\n",
    "    'centroid': 1,\n",
    "    'bandwidth': 1,\n",
    "    'rolloff': 1,\n",
    "    'percentiles': 1,\n",
    "    'chroma': 1,\n",
    "})"
   ]
  },
  {
   "cell_type": "code",
   "execution_count": null,
   "metadata": {
    "collapsed": true
   },
   "outputs": [],
   "source": []
  }
 ],
 "metadata": {
  "kernelspec": {
   "display_name": "Python 2",
   "language": "python",
   "name": "python2"
  },
  "language_info": {
   "codemirror_mode": {
    "name": "ipython",
    "version": 2
   },
   "file_extension": ".py",
   "mimetype": "text/x-python",
   "name": "python",
   "nbconvert_exporter": "python",
   "pygments_lexer": "ipython2",
   "version": "2.7.10"
  }
 },
 "nbformat": 4,
 "nbformat_minor": 0
}
