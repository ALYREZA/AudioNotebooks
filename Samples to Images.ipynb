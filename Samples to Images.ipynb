{
 "cells": [
  {
   "cell_type": "code",
   "execution_count": 2,
   "metadata": {
    "collapsed": false
   },
   "outputs": [],
   "source": [
    "%matplotlib inline\n",
    "from utils import *\n",
    "from tqdm import *\n",
    "from matplotlib import pyplot as plt\n",
    "from skimage.measure import block_reduce\n",
    "import numpy as np\n",
    "import librosa"
   ]
  },
  {
   "cell_type": "code",
   "execution_count": 2,
   "metadata": {
    "collapsed": true
   },
   "outputs": [],
   "source": [
    "samples = np.load('data/28k/samples.npy')"
   ]
  },
  {
   "cell_type": "code",
   "execution_count": 62,
   "metadata": {
    "collapsed": false,
    "scrolled": false
   },
   "outputs": [
    {
     "name": "stderr",
     "output_type": "stream",
     "text": [
      "100%|██████████| 28488/28488 [01:31<00:00, 312.22it/s]\n"
     ]
    }
   ],
   "source": [
    "sr = 44100\n",
    "n_fft = 512\n",
    "hop_length = n_fft / 3\n",
    "window = np.hanning(n_fft)\n",
    "amps = []\n",
    "for sample in tqdm(samples, leave=True):\n",
    "    y = samples[np.random.randint(len(samples))]\n",
    "    S = librosa.stft(y, n_fft=n_fft, hop_length=hop_length, window=window, center=False)\n",
    "    amp = librosa.logamplitude(np.abs(S)**2)\n",
    "    amp = amp[:256,:256] # ignore last time step and highest frequency\n",
    "    amp = block_reduce(amp, (8,8), func=np.sum)\n",
    "    amp -= amp.min()\n",
    "    amp /= amp.max()\n",
    "    amps.append(amp)"
   ]
  },
  {
   "cell_type": "code",
   "execution_count": 87,
   "metadata": {
    "collapsed": true
   },
   "outputs": [],
   "source": [
    "np.save('data/28k/images.npy', amps)\n",
    "# amps = np.load('data/28k/images.npy')"
   ]
  },
  {
   "cell_type": "code",
   "execution_count": 5,
   "metadata": {
    "collapsed": false
   },
   "outputs": [
    {
     "data": {
      "image/png": "[encoded data removed]",
      "text/plain": [
       "<IPython.core.display.Image object>"
      ]
     },
     "metadata": {},
     "output_type": "display_data"
    }
   ],
   "source": [
    "show_array(255 * make_mosaic(amps, n=5))"
   ]
  },
  {
   "cell_type": "code",
   "execution_count": null,
   "metadata": {
    "collapsed": true
   },
   "outputs": [],
   "source": []
  }
 ],
 "metadata": {
  "kernelspec": {
   "display_name": "Python 2",
   "language": "python",
   "name": "python2"
  },
  "language_info": {
   "codemirror_mode": {
    "name": "ipython",
    "version": 2
   },
   "file_extension": ".py",
   "mimetype": "text/x-python",
   "name": "python",
   "nbconvert_exporter": "python",
   "pygments_lexer": "ipython2",
   "version": "2.7.10"
  }
 },
 "nbformat": 4,
 "nbformat_minor": 0
}
